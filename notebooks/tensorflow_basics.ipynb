{
 "cells": [
  {
   "cell_type": "code",
   "execution_count": 3,
   "metadata": {},
   "outputs": [],
   "source": [
    "import tensorflow as tf\n",
    "import numpy as np\n",
    "import pandas as pd"
   ]
  },
  {
   "cell_type": "markdown",
   "metadata": {},
   "source": [
    "### Basic commands"
   ]
  },
  {
   "cell_type": "code",
   "execution_count": null,
   "metadata": {},
   "outputs": [],
   "source": [
    "x = tf.constant(35, name = 'x')\n",
    "y = tf.Variable(x + 5, name = 'y')\n",
    "model = tf.global_variables_initializer()\n",
    "with tf.Session() as session:\n",
    "    session.run(model)\n",
    "    print(session.run(y))"
   ]
  },
  {
   "cell_type": "code",
   "execution_count": null,
   "metadata": {},
   "outputs": [],
   "source": [
    "x = tf.constant(35, name = 'x')\n",
    "y = tf.Variable(x + 5, name = 'y')\n",
    "model = tf.global_variables_initializer()\n",
    "with tf.Session() as sess:\n",
    "    writer = tf.summary.FileWriter(\"output\", sess.graph)\n",
    "    sess.run(model)\n",
    "    print(sess.run(y))\n",
    "    writer.close()"
   ]
  },
  {
   "cell_type": "code",
   "execution_count": null,
   "metadata": {},
   "outputs": [],
   "source": [
    "import tensorflow as tf\n",
    "with tf.name_scope(\"Multiplication\"):\n",
    "    a = tf.constant(2, name = 'a')\n",
    "    b = tf.constant(4, name = 'b')\n",
    "    c = tf.Variable(a * b, name = 'c')\n",
    "with tf.name_scope(\"Summation\"):\n",
    "    d = tf.Variable(c + 3, name = 'd')\n",
    "model = tf.global_variables_initializer()\n",
    "with tf.Session() as session:\n",
    "    writer = tf.summary.FileWriter(\"output\", session.graph)\n",
    "    session.run(model)\n",
    "    print(session.run(c))\n",
    "    writer.close()"
   ]
  },
  {
   "cell_type": "code",
   "execution_count": null,
   "metadata": {},
   "outputs": [],
   "source": [
    "node1 = tf.constant(3.0, tf.float32)\n",
    "node2 = tf.constant(4.0)\n",
    "sess = tf.Session()\n",
    "print(sess.run([node1, node2])\n",
    "sess.close()"
   ]
  },
  {
   "cell_type": "code",
   "execution_count": null,
   "metadata": {},
   "outputs": [],
   "source": [
    "with tf.Session() as sess:\n",
    "    print(sess.run([node1, node2]))"
   ]
  },
  {
   "cell_type": "code",
   "execution_count": null,
   "metadata": {},
   "outputs": [],
   "source": [
    "a = tf.constant(5.0)\n",
    "b = tf.constant(4.0)\n",
    "c = a * b\n",
    "sess = tf.Session()\n",
    "print(sess.run([c]))\n",
    "file_writer = tf.summary.FileWriter('./graph', sess.graph)\n",
    "sess.close()"
   ]
  },
  {
   "cell_type": "code",
   "execution_count": 6,
   "metadata": {},
   "outputs": [],
   "source": [
    "sess = tf.Session()\n",
    "a = tf.placeholder(tf.float32)\n",
    "b = tf.placeholder(tf.float32)\n",
    "add_node = a + b\n",
    "print(sess.run(add_node, {a:[1,2], b:[3, 4]}))\n",
    "file_writer = tf.summary.FileWriter('./graph', sess.graph)"
   ]
  },
  {
   "cell_type": "markdown",
   "metadata": {},
   "source": [
    "### Training a linear model:"
   ]
  },
  {
   "cell_type": "code",
   "execution_count": null,
   "metadata": {},
   "outputs": [],
   "source": [
    "sess = tf.Session()\n",
    "\n",
    "w = tf.Variable([0.3], tf.float32)\n",
    "b = tf.Variable([0.3], tf.float32)\n",
    "x = tf.placeholder(tf.float32)\n",
    "linear_model = w * x + b\n",
    "\n",
    "y = tf.placeholder(tf.float32)\n",
    "\n",
    "loss = tf.reduce_sum(tf.square(linear_model - y))\n",
    "\n",
    "optimizer = tf.train.GradientDescentOptimizer(0.01)\n",
    "\n",
    "init = tf.global_variables_initializer()\n",
    "sess.run(init)\n",
    "\n",
    "train = optimizer.minimize(loss)\n",
    "\n",
    "for i in range(2000):\n",
    "    sess.run(train, {x:[1, 2, 3, 4], y:[0, -1, -2, -3]})\n",
    "\n",
    "print(sess.run([w, b]))"
   ]
  }
 ],
 "metadata": {
  "kernelspec": {
   "display_name": "Python 3",
   "language": "python",
   "name": "python3"
  },
  "language_info": {
   "codemirror_mode": {
    "name": "ipython",
    "version": 3
   },
   "file_extension": ".py",
   "mimetype": "text/x-python",
   "name": "python",
   "nbconvert_exporter": "python",
   "pygments_lexer": "ipython3",
   "version": "3.5.2"
  }
 },
 "nbformat": 4,
 "nbformat_minor": 2
}
